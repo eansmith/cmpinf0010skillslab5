{
 "cells": [
  {
   "cell_type": "code",
   "execution_count": 2,
   "metadata": {},
   "outputs": [
    {
     "name": "stdin",
     "output_type": "stream",
     "text": [
      "Enter Name jon\n",
      "Enter age 89\n",
      "Enter Major compsci\n"
     ]
    },
    {
     "name": "stdout",
     "output_type": "stream",
     "text": [
      "Hello jon. You are 89 years old. They are a compsci major\n"
     ]
    }
   ],
   "source": [
    "name = input(\"Enter Name\")\n",
    "age = input(\"Enter age\")    \n",
    "major = input(\"Enter Major\")\n",
    "print(\"Hello \" + name + \". You are \" + age + \" years old.\" + \" They are a \" + major + \" major\")\n"
   ]
  },
  {
   "cell_type": "code",
   "execution_count": null,
   "metadata": {},
   "outputs": [],
   "source": []
  }
 ],
 "metadata": {
  "kernelspec": {
   "display_name": "Python 3",
   "language": "python",
   "name": "python3"
  },
  "language_info": {
   "codemirror_mode": {
    "name": "ipython",
    "version": 3
   },
   "file_extension": ".py",
   "mimetype": "text/x-python",
   "name": "python",
   "nbconvert_exporter": "python",
   "pygments_lexer": "ipython3",
   "version": "3.8.3"
  }
 },
 "nbformat": 4,
 "nbformat_minor": 4
}
